{
 "cells": [
  {
   "cell_type": "code",
   "execution_count": 3,
   "metadata": {},
   "outputs": [],
   "source": [
    "from sklearn.model_selection import GridSearchCV\n"
   ]
  },
  {
   "cell_type": "code",
   "execution_count": 1,
   "metadata": {},
   "outputs": [
    {
     "name": "stdout",
     "output_type": "stream",
     "text": [
      "Requirement already satisfied: Flask in e:\\projectss\\mlproject\\venv\\lib\\site-packages (3.0.3)\n",
      "Requirement already satisfied: Werkzeug>=3.0.0 in e:\\projectss\\mlproject\\venv\\lib\\site-packages (from Flask) (3.0.2)\n",
      "Requirement already satisfied: Jinja2>=3.1.2 in e:\\projectss\\mlproject\\venv\\lib\\site-packages (from Flask) (3.1.3)\n",
      "Requirement already satisfied: itsdangerous>=2.1.2 in e:\\projectss\\mlproject\\venv\\lib\\site-packages (from Flask) (2.1.2)\n",
      "Requirement already satisfied: click>=8.1.3 in e:\\projectss\\mlproject\\venv\\lib\\site-packages (from Flask) (8.1.7)\n",
      "Requirement already satisfied: blinker>=1.6.2 in e:\\projectss\\mlproject\\venv\\lib\\site-packages (from Flask) (1.7.0)\n",
      "Requirement already satisfied: importlib-metadata>=3.6.0 in e:\\projectss\\mlproject\\venv\\lib\\site-packages (from Flask) (7.1.0)\n",
      "Requirement already satisfied: colorama in e:\\projectss\\mlproject\\venv\\lib\\site-packages (from click>=8.1.3->Flask) (0.4.6)\n",
      "Requirement already satisfied: zipp>=0.5 in e:\\projectss\\mlproject\\venv\\lib\\site-packages (from importlib-metadata>=3.6.0->Flask) (3.17.0)\n",
      "Requirement already satisfied: MarkupSafe>=2.0 in e:\\projectss\\mlproject\\venv\\lib\\site-packages (from Jinja2>=3.1.2->Flask) (2.1.5)\n",
      "Note: you may need to restart the kernel to use updated packages.\n"
     ]
    }
   ],
   "source": [
    "pip install Flask"
   ]
  },
  {
   "cell_type": "code",
   "execution_count": null,
   "metadata": {},
   "outputs": [],
   "source": []
  }
 ],
 "metadata": {
  "kernelspec": {
   "display_name": "Python 3",
   "language": "python",
   "name": "python3"
  },
  "language_info": {
   "codemirror_mode": {
    "name": "ipython",
    "version": 3
   },
   "file_extension": ".py",
   "mimetype": "text/x-python",
   "name": "python",
   "nbconvert_exporter": "python",
   "pygments_lexer": "ipython3",
   "version": "3.8.18"
  }
 },
 "nbformat": 4,
 "nbformat_minor": 2
}
