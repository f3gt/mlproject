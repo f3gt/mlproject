{
 "cells": [
  {
   "cell_type": "code",
   "execution_count": 1,
   "id": "6c1fcd2a",
   "metadata": {},
   "outputs": [],
   "source": [
    "import numpy as np \n",
    "import pandas as pd\n",
    "import matplotlib.pyplot as plt\n",
    "import seaborn as sns\n",
    "from warnings import filterwarnings\n",
    "filterwarnings('ignore')\n",
    "from sklearn.linear_model import LogisticRegression\n",
    "from sklearn.model_selection import GridSearchCV\n",
    "from sklearn.model_selection import cross_val_score\n",
    "from sklearn.pipeline import Pipeline\n",
    "from sklearn.impute import KNNImputer,SimpleImputer\n",
    "from sklearn.preprocessing import RobustScaler\n",
    "\n",
    "\n",
    "from sklearn.model_selection import train_test_split\n",
    "from sklearn.metrics import accuracy_score,precision_score,recall_score,f1_score,roc_auc_score\n",
    "\n",
    "\n",
    "from sklearn.linear_model import LogisticRegression\n",
    "from sklearn.svm import SVC\n",
    "from sklearn.neighbors import KNeighborsClassifier\n",
    "from sklearn.naive_bayes import BernoulliNB\n",
    "from sklearn.tree import DecisionTreeClassifier\n",
    "from sklearn.ensemble import RandomForestClassifier\n",
    "from sklearn.ensemble import AdaBoostClassifier\n",
    "from sklearn.ensemble import GradientBoostingClassifier\n",
    "from xgboost import XGBClassifier"
   ]
  },
  {
   "cell_type": "code",
   "execution_count": 2,
   "id": "db75b2dd",
   "metadata": {},
   "outputs": [],
   "source": [
    "df = pd.read_csv('heart.csv')"
   ]
  },
  {
   "cell_type": "code",
   "execution_count": 3,
   "id": "7cf756b7",
   "metadata": {},
   "outputs": [
    {
     "data": {
      "text/plain": [
       "(303, 14)"
      ]
     },
     "execution_count": 3,
     "metadata": {},
     "output_type": "execute_result"
    }
   ],
   "source": [
    "df.shape"
   ]
  },
  {
   "cell_type": "markdown",
   "id": "cc3c34d4",
   "metadata": {},
   "source": [
    "***Conclusion:in our dataset there are 303 rows and 14 columns***"
   ]
  },
  {
   "cell_type": "code",
   "execution_count": 4,
   "id": "4baf2300",
   "metadata": {},
   "outputs": [
    {
     "name": "stdout",
     "output_type": "stream",
     "text": [
      "<class 'pandas.core.frame.DataFrame'>\n",
      "RangeIndex: 303 entries, 0 to 302\n",
      "Data columns (total 14 columns):\n",
      " #   Column    Non-Null Count  Dtype  \n",
      "---  ------    --------------  -----  \n",
      " 0   age       303 non-null    int64  \n",
      " 1   sex       303 non-null    int64  \n",
      " 2   cp        303 non-null    int64  \n",
      " 3   trestbps  303 non-null    int64  \n",
      " 4   chol      303 non-null    int64  \n",
      " 5   fbs       303 non-null    int64  \n",
      " 6   restecg   303 non-null    int64  \n",
      " 7   thalach   303 non-null    int64  \n",
      " 8   exang     303 non-null    int64  \n",
      " 9   oldpeak   303 non-null    float64\n",
      " 10  slope     303 non-null    int64  \n",
      " 11  ca        303 non-null    int64  \n",
      " 12  thal      303 non-null    int64  \n",
      " 13  target    303 non-null    int64  \n",
      "dtypes: float64(1), int64(13)\n",
      "memory usage: 33.3 KB\n"
     ]
    }
   ],
   "source": [
    "# getting  information about the dataframe\n",
    "df.info()"
   ]
  },
  {
   "cell_type": "markdown",
   "id": "10732463",
   "metadata": {},
   "source": [
    "***conclusion:there is no missing value in out dataset***"
   ]
  },
  {
   "cell_type": "code",
   "execution_count": 5,
   "id": "2eed4ef9",
   "metadata": {},
   "outputs": [
    {
     "data": {
      "text/html": [
       "<div>\n",
       "<style scoped>\n",
       "    .dataframe tbody tr th:only-of-type {\n",
       "        vertical-align: middle;\n",
       "    }\n",
       "\n",
       "    .dataframe tbody tr th {\n",
       "        vertical-align: top;\n",
       "    }\n",
       "\n",
       "    .dataframe thead th {\n",
       "        text-align: right;\n",
       "    }\n",
       "</style>\n",
       "<table border=\"1\" class=\"dataframe\">\n",
       "  <thead>\n",
       "    <tr style=\"text-align: right;\">\n",
       "      <th></th>\n",
       "      <th>count</th>\n",
       "      <th>mean</th>\n",
       "      <th>std</th>\n",
       "      <th>min</th>\n",
       "      <th>25%</th>\n",
       "      <th>50%</th>\n",
       "      <th>75%</th>\n",
       "      <th>max</th>\n",
       "    </tr>\n",
       "  </thead>\n",
       "  <tbody>\n",
       "    <tr>\n",
       "      <th>age</th>\n",
       "      <td>303.0</td>\n",
       "      <td>54.366337</td>\n",
       "      <td>9.082101</td>\n",
       "      <td>29.0</td>\n",
       "      <td>47.5</td>\n",
       "      <td>55.0</td>\n",
       "      <td>61.0</td>\n",
       "      <td>77.0</td>\n",
       "    </tr>\n",
       "    <tr>\n",
       "      <th>sex</th>\n",
       "      <td>303.0</td>\n",
       "      <td>0.683168</td>\n",
       "      <td>0.466011</td>\n",
       "      <td>0.0</td>\n",
       "      <td>0.0</td>\n",
       "      <td>1.0</td>\n",
       "      <td>1.0</td>\n",
       "      <td>1.0</td>\n",
       "    </tr>\n",
       "    <tr>\n",
       "      <th>cp</th>\n",
       "      <td>303.0</td>\n",
       "      <td>0.966997</td>\n",
       "      <td>1.032052</td>\n",
       "      <td>0.0</td>\n",
       "      <td>0.0</td>\n",
       "      <td>1.0</td>\n",
       "      <td>2.0</td>\n",
       "      <td>3.0</td>\n",
       "    </tr>\n",
       "    <tr>\n",
       "      <th>trestbps</th>\n",
       "      <td>303.0</td>\n",
       "      <td>131.623762</td>\n",
       "      <td>17.538143</td>\n",
       "      <td>94.0</td>\n",
       "      <td>120.0</td>\n",
       "      <td>130.0</td>\n",
       "      <td>140.0</td>\n",
       "      <td>200.0</td>\n",
       "    </tr>\n",
       "    <tr>\n",
       "      <th>chol</th>\n",
       "      <td>303.0</td>\n",
       "      <td>246.264026</td>\n",
       "      <td>51.830751</td>\n",
       "      <td>126.0</td>\n",
       "      <td>211.0</td>\n",
       "      <td>240.0</td>\n",
       "      <td>274.5</td>\n",
       "      <td>564.0</td>\n",
       "    </tr>\n",
       "    <tr>\n",
       "      <th>fbs</th>\n",
       "      <td>303.0</td>\n",
       "      <td>0.148515</td>\n",
       "      <td>0.356198</td>\n",
       "      <td>0.0</td>\n",
       "      <td>0.0</td>\n",
       "      <td>0.0</td>\n",
       "      <td>0.0</td>\n",
       "      <td>1.0</td>\n",
       "    </tr>\n",
       "    <tr>\n",
       "      <th>restecg</th>\n",
       "      <td>303.0</td>\n",
       "      <td>0.528053</td>\n",
       "      <td>0.525860</td>\n",
       "      <td>0.0</td>\n",
       "      <td>0.0</td>\n",
       "      <td>1.0</td>\n",
       "      <td>1.0</td>\n",
       "      <td>2.0</td>\n",
       "    </tr>\n",
       "    <tr>\n",
       "      <th>thalach</th>\n",
       "      <td>303.0</td>\n",
       "      <td>149.646865</td>\n",
       "      <td>22.905161</td>\n",
       "      <td>71.0</td>\n",
       "      <td>133.5</td>\n",
       "      <td>153.0</td>\n",
       "      <td>166.0</td>\n",
       "      <td>202.0</td>\n",
       "    </tr>\n",
       "    <tr>\n",
       "      <th>exang</th>\n",
       "      <td>303.0</td>\n",
       "      <td>0.326733</td>\n",
       "      <td>0.469794</td>\n",
       "      <td>0.0</td>\n",
       "      <td>0.0</td>\n",
       "      <td>0.0</td>\n",
       "      <td>1.0</td>\n",
       "      <td>1.0</td>\n",
       "    </tr>\n",
       "    <tr>\n",
       "      <th>oldpeak</th>\n",
       "      <td>303.0</td>\n",
       "      <td>1.039604</td>\n",
       "      <td>1.161075</td>\n",
       "      <td>0.0</td>\n",
       "      <td>0.0</td>\n",
       "      <td>0.8</td>\n",
       "      <td>1.6</td>\n",
       "      <td>6.2</td>\n",
       "    </tr>\n",
       "    <tr>\n",
       "      <th>slope</th>\n",
       "      <td>303.0</td>\n",
       "      <td>1.399340</td>\n",
       "      <td>0.616226</td>\n",
       "      <td>0.0</td>\n",
       "      <td>1.0</td>\n",
       "      <td>1.0</td>\n",
       "      <td>2.0</td>\n",
       "      <td>2.0</td>\n",
       "    </tr>\n",
       "    <tr>\n",
       "      <th>ca</th>\n",
       "      <td>303.0</td>\n",
       "      <td>0.729373</td>\n",
       "      <td>1.022606</td>\n",
       "      <td>0.0</td>\n",
       "      <td>0.0</td>\n",
       "      <td>0.0</td>\n",
       "      <td>1.0</td>\n",
       "      <td>4.0</td>\n",
       "    </tr>\n",
       "    <tr>\n",
       "      <th>thal</th>\n",
       "      <td>303.0</td>\n",
       "      <td>2.313531</td>\n",
       "      <td>0.612277</td>\n",
       "      <td>0.0</td>\n",
       "      <td>2.0</td>\n",
       "      <td>2.0</td>\n",
       "      <td>3.0</td>\n",
       "      <td>3.0</td>\n",
       "    </tr>\n",
       "    <tr>\n",
       "      <th>target</th>\n",
       "      <td>303.0</td>\n",
       "      <td>0.544554</td>\n",
       "      <td>0.498835</td>\n",
       "      <td>0.0</td>\n",
       "      <td>0.0</td>\n",
       "      <td>1.0</td>\n",
       "      <td>1.0</td>\n",
       "      <td>1.0</td>\n",
       "    </tr>\n",
       "  </tbody>\n",
       "</table>\n",
       "</div>"
      ],
      "text/plain": [
       "          count        mean        std    min    25%    50%    75%    max\n",
       "age       303.0   54.366337   9.082101   29.0   47.5   55.0   61.0   77.0\n",
       "sex       303.0    0.683168   0.466011    0.0    0.0    1.0    1.0    1.0\n",
       "cp        303.0    0.966997   1.032052    0.0    0.0    1.0    2.0    3.0\n",
       "trestbps  303.0  131.623762  17.538143   94.0  120.0  130.0  140.0  200.0\n",
       "chol      303.0  246.264026  51.830751  126.0  211.0  240.0  274.5  564.0\n",
       "fbs       303.0    0.148515   0.356198    0.0    0.0    0.0    0.0    1.0\n",
       "restecg   303.0    0.528053   0.525860    0.0    0.0    1.0    1.0    2.0\n",
       "thalach   303.0  149.646865  22.905161   71.0  133.5  153.0  166.0  202.0\n",
       "exang     303.0    0.326733   0.469794    0.0    0.0    0.0    1.0    1.0\n",
       "oldpeak   303.0    1.039604   1.161075    0.0    0.0    0.8    1.6    6.2\n",
       "slope     303.0    1.399340   0.616226    0.0    1.0    1.0    2.0    2.0\n",
       "ca        303.0    0.729373   1.022606    0.0    0.0    0.0    1.0    4.0\n",
       "thal      303.0    2.313531   0.612277    0.0    2.0    2.0    3.0    3.0\n",
       "target    303.0    0.544554   0.498835    0.0    0.0    1.0    1.0    1.0"
      ]
     },
     "execution_count": 5,
     "metadata": {},
     "output_type": "execute_result"
    }
   ],
   "source": [
    "df.describe().transpose()"
   ]
  },
  {
   "cell_type": "code",
   "execution_count": 6,
   "id": "b68d7448",
   "metadata": {},
   "outputs": [
    {
     "data": {
      "text/plain": [
       "0"
      ]
     },
     "execution_count": 6,
     "metadata": {},
     "output_type": "execute_result"
    }
   ],
   "source": [
    "df.isnull().sum().sum()"
   ]
  },
  {
   "cell_type": "code",
   "execution_count": 7,
   "id": "70237fd0",
   "metadata": {},
   "outputs": [
    {
     "data": {
      "image/png": "[encoded data removed]",
      "text/plain": [
       "<Figure size 1200x1200 with 14 Axes>"
      ]
     },
     "metadata": {},
     "output_type": "display_data"
    }
   ],
   "source": [
    "#ploting distrinution of all independent numerical variable\n",
    "\n",
    "plt.figure(figsize=(12,12))\n",
    "plotnumber = 1\n",
    "for column in df.columns:\n",
    "    ax = plt.subplot(4,4,plotnumber)\n",
    "    sns.boxplot(df[column])\n",
    "    plt.tight_layout()\n",
    "    plotnumber+=1"
   ]
  },
  {
   "cell_type": "markdown",
   "id": "19be0c2d",
   "metadata": {},
   "source": [
    "***conclusion: As per the above plot most of the numerical features are approximiately normally distributed and less number of outlier present in our dataset.***"
   ]
  },
  {
   "cell_type": "code",
   "execution_count": 8,
   "id": "52c89b10",
   "metadata": {},
   "outputs": [
    {
     "data": {
      "text/plain": [
       "1    165\n",
       "0    138\n",
       "Name: target, dtype: int64"
      ]
     },
     "execution_count": 8,
     "metadata": {},
     "output_type": "execute_result"
    }
   ],
   "source": [
    "df['target'].value_counts()"
   ]
  },
  {
   "cell_type": "code",
   "execution_count": 9,
   "id": "f9ee7ce2",
   "metadata": {},
   "outputs": [
    {
     "name": "stdout",
     "output_type": "stream",
     "text": [
      "zero class count: 138, one class count: 165\n"
     ]
    },
    {
     "data": {
      "image/png": "[encoded data removed]",
      "text/plain": [
       "<Figure size 400x200 with 1 Axes>"
      ]
     },
     "metadata": {},
     "output_type": "display_data"
    }
   ],
   "source": [
    "# visualizing the target column\n",
    "print(\"zero class count: \" +str(df['target'].value_counts()[0]) + \", one class count: \" + str(df['target'].value_counts()[1]))\n",
    "plt.figure(figsize=(4,2))\n",
    "sns.countplot(data=df,x='target');"
   ]
  },
  {
   "cell_type": "markdown",
   "id": "1435d709",
   "metadata": {},
   "source": [
    "***Decision:the target classes are balanced so no need to resample***"
   ]
  },
  {
   "cell_type": "code",
   "execution_count": 10,
   "id": "afecdf62",
   "metadata": {},
   "outputs": [],
   "source": [
    "X=df.drop('target',axis=1)\n",
    "y = df['target']"
   ]
  },
  {
   "cell_type": "markdown",
   "id": "2f27ec8e",
   "metadata": {},
   "source": [
    "# Creating Functions for model training and evaluation"
   ]
  },
  {
   "cell_type": "code",
   "execution_count": 11,
   "id": "a571043e",
   "metadata": {},
   "outputs": [],
   "source": [
    " def model_performance(true, predicted):\n",
    "    '''\n",
    "    This function takes in true values and predicted values\n",
    "    Returns: Accuracy, F1-Score, Precision, Recall, Roc-auc Score\n",
    "    '''\n",
    "    acc = round(accuracy_score(true, predicted),2) \n",
    "    f1 = round(f1_score(true, predicted),2)\n",
    "    precision = round(precision_score(true, predicted),2)\n",
    "    recall = round(recall_score(true, predicted),2) \n",
    "    roc_auc = round(roc_auc_score(true, predicted),2)\n",
    "    return acc, f1 , precision, recall, roc_auc"
   ]
  },
  {
   "cell_type": "code",
   "execution_count": 12,
   "id": "91543a7e",
   "metadata": {},
   "outputs": [],
   "source": [
    "def model_building(X,y,models):\n",
    "    '''\n",
    "    This function takes in X and y and models  as input.\n",
    "    It splits the data into Train Test split.\n",
    "    evaluates the performance metrics on train and test dataset.\n",
    "    Returns: Dataframe which contains report of the models metrics.\n",
    "    '''\n",
    "    \n",
    "    # separate dataset into train and test\n",
    "    X_train, X_test, y_train, y_test = train_test_split(X,y,test_size=0.2,random_state=42)\n",
    "    for i in range(len(list(models))):\n",
    "        key = list(models.keys())[i]\n",
    "        model = list(models.values())[i]\n",
    "        model.fit(X_train, y_train) # Train model\n",
    "\n",
    "        #\n",
    "        y_train_pred = model.predict(X_train)\n",
    "        y_test_pred = model.predict(X_test)\n",
    "        \n",
    "        # model prediction \n",
    "        y_train_pred = model.predict(X_train)\n",
    "        y_test_pred = model.predict(X_test)\n",
    "\n",
    "\n",
    "        # model Training set performance\n",
    "        model_train_accuracy, model_train_f1,model_train_precision,\\\n",
    "        model_train_recall,model_train_rocauc_score=model_performance(y_train ,y_train_pred)\n",
    "\n",
    "        # model Test set performance\n",
    "        model_test_accuracy,model_test_f1,model_test_precision,\\\n",
    "        model_test_recall,model_test_rocauc_score=model_performance(y_test, y_test_pred)\n",
    "    \n",
    "        \n",
    "        row_data = [model_train_accuracy,model_test_accuracy,model_train_f1,model_test_f1,model_train_precision,\n",
    "                        model_test_precision,model_train_recall,model_test_recall,model_train_rocauc_score,\n",
    "                        model_test_rocauc_score]\n",
    "\n",
    "\n",
    "        print(f'{key} Model performance for Training set')\n",
    "        print(\"- Accuracy: {:.4f}\".format(model_train_accuracy))\n",
    "        print('- F1 score: {:.4f}'.format(model_train_f1))\n",
    "        print('- Precision: {:.4f}'.format(model_train_precision))\n",
    "        print('- Recall: {:.4f}'.format(model_train_recall))\n",
    "        print('- Roc Auc Score: {:.4f}'.format(model_train_rocauc_score))\n",
    "        print('----------------------------------')\n",
    "        print(f'{key} Model performance for Test set')\n",
    "        print('- Accuracy: {:.4f}'.format(model_test_accuracy))\n",
    "        print('- F1 score: {:.4f}'.format(model_test_f1))\n",
    "        print('- Precision: {:.4f}'.format(model_test_precision))\n",
    "        print('- Recall: {:.4f}'.format(model_test_recall))\n",
    "        print('- Roc Auc Score: {:.4f}'.format(model_test_rocauc_score))\n",
    "        print('='*35)\n",
    "        print('\\n')\n",
    "        \n",
    "    global performance_df\n",
    "    performance_df = performance_df.append(pd.Series(row_data, index=performance_df.columns, name=key))"
   ]
  },
  {
   "cell_type": "code",
   "execution_count": 13,
   "id": "f71b8251",
   "metadata": {},
   "outputs": [],
   "source": [
    "performance_df = pd.DataFrame(columns=['Train Accuracy','Test Accuracy','Train F1','Test F1','Train Precision',\n",
    "                                       'Test Precision','Train Recall','Test Recall','Train auc','Test auc'])"
   ]
  },
  {
   "cell_type": "code",
   "execution_count": 14,
   "id": "50b30dc9",
   "metadata": {},
   "outputs": [
    {
     "name": "stdout",
     "output_type": "stream",
     "text": [
      "Logistic Regression Model performance for Training set\n",
      "- Accuracy: 0.8500\n",
      "- F1 score: 0.8700\n",
      "- Precision: 0.8300\n",
      "- Recall: 0.9100\n",
      "- Roc Auc Score: 0.8400\n",
      "----------------------------------\n",
      "Logistic Regression Model performance for Test set\n",
      "- Accuracy: 0.8900\n",
      "- F1 score: 0.8900\n",
      "- Precision: 0.8800\n",
      "- Recall: 0.9100\n",
      "- Roc Auc Score: 0.8800\n",
      "===================================\n",
      "\n",
      "\n"
     ]
    }
   ],
   "source": [
    "logistic_models = {'Logistic Regression':LogisticRegression()}\n",
    "model_building(X=X,y=y,models=logistic_models)"
   ]
  },
  {
   "cell_type": "code",
   "execution_count": 15,
   "id": "7cb48827",
   "metadata": {},
   "outputs": [
    {
     "name": "stdout",
     "output_type": "stream",
     "text": [
      "Support Vector Classifier Model performance for Training set\n",
      "- Accuracy: 0.6600\n",
      "- F1 score: 0.7300\n",
      "- Precision: 0.6400\n",
      "- Recall: 0.8600\n",
      "- Roc Auc Score: 0.6300\n",
      "----------------------------------\n",
      "Support Vector Classifier Model performance for Test set\n",
      "- Accuracy: 0.7000\n",
      "- F1 score: 0.7600\n",
      "- Precision: 0.6700\n",
      "- Recall: 0.8800\n",
      "- Roc Auc Score: 0.7000\n",
      "===================================\n",
      "\n",
      "\n"
     ]
    }
   ],
   "source": [
    "svc_model = {'Support Vector Classifier':SVC()}\n",
    "model_building(X=X,y=y,models=svc_model)"
   ]
  },
  {
   "cell_type": "code",
   "execution_count": 16,
   "id": "38034a39",
   "metadata": {},
   "outputs": [
    {
     "name": "stdout",
     "output_type": "stream",
     "text": [
      "K-Neighbors Classifier Model performance for Training set\n",
      "- Accuracy: 0.7600\n",
      "- F1 score: 0.7900\n",
      "- Precision: 0.7600\n",
      "- Recall: 0.8300\n",
      "- Roc Auc Score: 0.7500\n",
      "----------------------------------\n",
      "K-Neighbors Classifier Model performance for Test set\n",
      "- Accuracy: 0.6900\n",
      "- F1 score: 0.7200\n",
      "- Precision: 0.6900\n",
      "- Recall: 0.7500\n",
      "- Roc Auc Score: 0.6900\n",
      "===================================\n",
      "\n",
      "\n"
     ]
    }
   ],
   "source": [
    "knc_model = {'K-Neighbors Classifier': KNeighborsClassifier()}\n",
    "model_building(X=X,y=y,models=knc_model)"
   ]
  },
  {
   "cell_type": "code",
   "execution_count": 17,
   "id": "3f41cc34",
   "metadata": {},
   "outputs": [
    {
     "name": "stdout",
     "output_type": "stream",
     "text": [
      "Naive Bayes Classifier Model performance for Training set\n",
      "- Accuracy: 0.8200\n",
      "- F1 score: 0.8400\n",
      "- Precision: 0.8200\n",
      "- Recall: 0.8700\n",
      "- Roc Auc Score: 0.8200\n",
      "----------------------------------\n",
      "Naive Bayes Classifier Model performance for Test set\n",
      "- Accuracy: 0.8700\n",
      "- F1 score: 0.8800\n",
      "- Precision: 0.8800\n",
      "- Recall: 0.8800\n",
      "- Roc Auc Score: 0.8700\n",
      "===================================\n",
      "\n",
      "\n"
     ]
    }
   ],
   "source": [
    "nbc_model = {'Naive Bayes Classifier':BernoulliNB()}\n",
    "model_building(X=X,y=y,models=nbc_model)"
   ]
  },
  {
   "cell_type": "code",
   "execution_count": 18,
   "id": "d0128848",
   "metadata": {},
   "outputs": [
    {
     "name": "stdout",
     "output_type": "stream",
     "text": [
      "Decesion Tree Model performance for Training set\n",
      "- Accuracy: 1.0000\n",
      "- F1 score: 1.0000\n",
      "- Precision: 1.0000\n",
      "- Recall: 1.0000\n",
      "- Roc Auc Score: 1.0000\n",
      "----------------------------------\n",
      "Decesion Tree Model performance for Test set\n",
      "- Accuracy: 0.8500\n",
      "- F1 score: 0.8500\n",
      "- Precision: 0.9300\n",
      "- Recall: 0.7800\n",
      "- Roc Auc Score: 0.8600\n",
      "===================================\n",
      "\n",
      "\n"
     ]
    }
   ],
   "source": [
    "dtc_model = {'Decesion Tree':DecisionTreeClassifier()}\n",
    "model_building(X=X,y=y,models=dtc_model)"
   ]
  },
  {
   "cell_type": "code",
   "execution_count": 19,
   "id": "048cdd27",
   "metadata": {},
   "outputs": [
    {
     "name": "stdout",
     "output_type": "stream",
     "text": [
      "Random Forest Model performance for Training set\n",
      "- Accuracy: 1.0000\n",
      "- F1 score: 1.0000\n",
      "- Precision: 1.0000\n",
      "- Recall: 1.0000\n",
      "- Roc Auc Score: 1.0000\n",
      "----------------------------------\n",
      "Random Forest Model performance for Test set\n",
      "- Accuracy: 0.8700\n",
      "- F1 score: 0.8800\n",
      "- Precision: 0.8500\n",
      "- Recall: 0.9100\n",
      "- Roc Auc Score: 0.8700\n",
      "===================================\n",
      "\n",
      "\n"
     ]
    }
   ],
   "source": [
    "rf_model={'Random Forest': RandomForestClassifier()} \n",
    "model_building(X=X,y=y,models=rf_model)"
   ]
  },
  {
   "cell_type": "code",
   "execution_count": 20,
   "id": "6eb882ad",
   "metadata": {},
   "outputs": [
    {
     "name": "stdout",
     "output_type": "stream",
     "text": [
      "AdaBoost Classifier Model performance for Training set\n",
      "- Accuracy: 0.9400\n",
      "- F1 score: 0.9400\n",
      "- Precision: 0.9500\n",
      "- Recall: 0.9400\n",
      "- Roc Auc Score: 0.9400\n",
      "----------------------------------\n",
      "AdaBoost Classifier Model performance for Test set\n",
      "- Accuracy: 0.8000\n",
      "- F1 score: 0.8000\n",
      "- Precision: 0.8600\n",
      "- Recall: 0.7500\n",
      "- Roc Auc Score: 0.8100\n",
      "===================================\n",
      "\n",
      "\n"
     ]
    }
   ],
   "source": [
    "abc_model={'AdaBoost Classifier':AdaBoostClassifier()} \n",
    "model_building(X=X,y=y,models=abc_model)"
   ]
  },
  {
   "cell_type": "code",
   "execution_count": 21,
   "id": "62041abf",
   "metadata": {},
   "outputs": [
    {
     "name": "stdout",
     "output_type": "stream",
     "text": [
      "GradientBoost Classifier Model performance for Training set\n",
      "- Accuracy: 1.0000\n",
      "- F1 score: 1.0000\n",
      "- Precision: 1.0000\n",
      "- Recall: 1.0000\n",
      "- Roc Auc Score: 1.0000\n",
      "----------------------------------\n",
      "GradientBoost Classifier Model performance for Test set\n",
      "- Accuracy: 0.7700\n",
      "- F1 score: 0.7700\n",
      "- Precision: 0.8000\n",
      "- Recall: 0.7500\n",
      "- Roc Auc Score: 0.7700\n",
      "===================================\n",
      "\n",
      "\n"
     ]
    }
   ],
   "source": [
    "gbc_model={'GradientBoost Classifier':GradientBoostingClassifier()} \n",
    "model_building(X=X,y=y,models=gbc_model)"
   ]
  },
  {
   "cell_type": "code",
   "execution_count": 22,
   "id": "e9448865",
   "metadata": {},
   "outputs": [
    {
     "name": "stdout",
     "output_type": "stream",
     "text": [
      "Xgboost Classifier Model performance for Training set\n",
      "- Accuracy: 1.0000\n",
      "- F1 score: 1.0000\n",
      "- Precision: 1.0000\n",
      "- Recall: 1.0000\n",
      "- Roc Auc Score: 1.0000\n",
      "----------------------------------\n",
      "Xgboost Classifier Model performance for Test set\n",
      "- Accuracy: 0.8200\n",
      "- F1 score: 0.8200\n",
      "- Precision: 0.8600\n",
      "- Recall: 0.7800\n",
      "- Roc Auc Score: 0.8200\n",
      "===================================\n",
      "\n",
      "\n"
     ]
    }
   ],
   "source": [
    "xgbc_model={'Xgboost Classifier':XGBClassifier()} \n",
    "model_building(X=X,y=y,models=xgbc_model)"
   ]
  },
  {
   "cell_type": "code",
   "execution_count": 23,
   "id": "9213865c",
   "metadata": {},
   "outputs": [
    {
     "data": {
      "text/html": [
       "<div>\n",
       "<style scoped>\n",
       "    .dataframe tbody tr th:only-of-type {\n",
       "        vertical-align: middle;\n",
       "    }\n",
       "\n",
       "    .dataframe tbody tr th {\n",
       "        vertical-align: top;\n",
       "    }\n",
       "\n",
       "    .dataframe thead th {\n",
       "        text-align: right;\n",
       "    }\n",
       "</style>\n",
       "<table border=\"1\" class=\"dataframe\">\n",
       "  <thead>\n",
       "    <tr style=\"text-align: right;\">\n",
       "      <th></th>\n",
       "      <th>Train Accuracy</th>\n",
       "      <th>Test Accuracy</th>\n",
       "      <th>Train F1</th>\n",
       "      <th>Test F1</th>\n",
       "      <th>Train Precision</th>\n",
       "      <th>Test Precision</th>\n",
       "      <th>Train Recall</th>\n",
       "      <th>Test Recall</th>\n",
       "      <th>Train auc</th>\n",
       "      <th>Test auc</th>\n",
       "    </tr>\n",
       "  </thead>\n",
       "  <tbody>\n",
       "    <tr>\n",
       "      <th>Logistic Regression</th>\n",
       "      <td>0.85</td>\n",
       "      <td>0.89</td>\n",
       "      <td>0.87</td>\n",
       "      <td>0.89</td>\n",
       "      <td>0.83</td>\n",
       "      <td>0.88</td>\n",
       "      <td>0.91</td>\n",
       "      <td>0.91</td>\n",
       "      <td>0.84</td>\n",
       "      <td>0.88</td>\n",
       "    </tr>\n",
       "    <tr>\n",
       "      <th>Support Vector Classifier</th>\n",
       "      <td>0.66</td>\n",
       "      <td>0.70</td>\n",
       "      <td>0.73</td>\n",
       "      <td>0.76</td>\n",
       "      <td>0.64</td>\n",
       "      <td>0.67</td>\n",
       "      <td>0.86</td>\n",
       "      <td>0.88</td>\n",
       "      <td>0.63</td>\n",
       "      <td>0.70</td>\n",
       "    </tr>\n",
       "    <tr>\n",
       "      <th>K-Neighbors Classifier</th>\n",
       "      <td>0.76</td>\n",
       "      <td>0.69</td>\n",
       "      <td>0.79</td>\n",
       "      <td>0.72</td>\n",
       "      <td>0.76</td>\n",
       "      <td>0.69</td>\n",
       "      <td>0.83</td>\n",
       "      <td>0.75</td>\n",
       "      <td>0.75</td>\n",
       "      <td>0.69</td>\n",
       "    </tr>\n",
       "    <tr>\n",
       "      <th>Naive Bayes Classifier</th>\n",
       "      <td>0.82</td>\n",
       "      <td>0.87</td>\n",
       "      <td>0.84</td>\n",
       "      <td>0.88</td>\n",
       "      <td>0.82</td>\n",
       "      <td>0.88</td>\n",
       "      <td>0.87</td>\n",
       "      <td>0.88</td>\n",
       "      <td>0.82</td>\n",
       "      <td>0.87</td>\n",
       "    </tr>\n",
       "    <tr>\n",
       "      <th>Decesion Tree</th>\n",
       "      <td>1.00</td>\n",
       "      <td>0.85</td>\n",
       "      <td>1.00</td>\n",
       "      <td>0.85</td>\n",
       "      <td>1.00</td>\n",
       "      <td>0.93</td>\n",
       "      <td>1.00</td>\n",
       "      <td>0.78</td>\n",
       "      <td>1.00</td>\n",
       "      <td>0.86</td>\n",
       "    </tr>\n",
       "    <tr>\n",
       "      <th>Random Forest</th>\n",
       "      <td>1.00</td>\n",
       "      <td>0.87</td>\n",
       "      <td>1.00</td>\n",
       "      <td>0.88</td>\n",
       "      <td>1.00</td>\n",
       "      <td>0.85</td>\n",
       "      <td>1.00</td>\n",
       "      <td>0.91</td>\n",
       "      <td>1.00</td>\n",
       "      <td>0.87</td>\n",
       "    </tr>\n",
       "    <tr>\n",
       "      <th>AdaBoost Classifier</th>\n",
       "      <td>0.94</td>\n",
       "      <td>0.80</td>\n",
       "      <td>0.94</td>\n",
       "      <td>0.80</td>\n",
       "      <td>0.95</td>\n",
       "      <td>0.86</td>\n",
       "      <td>0.94</td>\n",
       "      <td>0.75</td>\n",
       "      <td>0.94</td>\n",
       "      <td>0.81</td>\n",
       "    </tr>\n",
       "    <tr>\n",
       "      <th>GradientBoost Classifier</th>\n",
       "      <td>1.00</td>\n",
       "      <td>0.77</td>\n",
       "      <td>1.00</td>\n",
       "      <td>0.77</td>\n",
       "      <td>1.00</td>\n",
       "      <td>0.80</td>\n",
       "      <td>1.00</td>\n",
       "      <td>0.75</td>\n",
       "      <td>1.00</td>\n",
       "      <td>0.77</td>\n",
       "    </tr>\n",
       "    <tr>\n",
       "      <th>Xgboost Classifier</th>\n",
       "      <td>1.00</td>\n",
       "      <td>0.82</td>\n",
       "      <td>1.00</td>\n",
       "      <td>0.82</td>\n",
       "      <td>1.00</td>\n",
       "      <td>0.86</td>\n",
       "      <td>1.00</td>\n",
       "      <td>0.78</td>\n",
       "      <td>1.00</td>\n",
       "      <td>0.82</td>\n",
       "    </tr>\n",
       "  </tbody>\n",
       "</table>\n",
       "</div>"
      ],
      "text/plain": [
       "                           Train Accuracy  Test Accuracy  Train F1  Test F1  \\\n",
       "Logistic Regression                  0.85           0.89      0.87     0.89   \n",
       "Support Vector Classifier            0.66           0.70      0.73     0.76   \n",
       "K-Neighbors Classifier               0.76           0.69      0.79     0.72   \n",
       "Naive Bayes Classifier               0.82           0.87      0.84     0.88   \n",
       "Decesion Tree                        1.00           0.85      1.00     0.85   \n",
       "Random Forest                        1.00           0.87      1.00     0.88   \n",
       "AdaBoost Classifier                  0.94           0.80      0.94     0.80   \n",
       "GradientBoost Classifier             1.00           0.77      1.00     0.77   \n",
       "Xgboost Classifier                   1.00           0.82      1.00     0.82   \n",
       "\n",
       "                           Train Precision  Test Precision  Train Recall  \\\n",
       "Logistic Regression                   0.83            0.88          0.91   \n",
       "Support Vector Classifier             0.64            0.67          0.86   \n",
       "K-Neighbors Classifier                0.76            0.69          0.83   \n",
       "Naive Bayes Classifier                0.82            0.88          0.87   \n",
       "Decesion Tree                         1.00            0.93          1.00   \n",
       "Random Forest                         1.00            0.85          1.00   \n",
       "AdaBoost Classifier                   0.95            0.86          0.94   \n",
       "GradientBoost Classifier              1.00            0.80          1.00   \n",
       "Xgboost Classifier                    1.00            0.86          1.00   \n",
       "\n",
       "                           Test Recall  Train auc  Test auc  \n",
       "Logistic Regression               0.91       0.84      0.88  \n",
       "Support Vector Classifier         0.88       0.63      0.70  \n",
       "K-Neighbors Classifier            0.75       0.75      0.69  \n",
       "Naive Bayes Classifier            0.88       0.82      0.87  \n",
       "Decesion Tree                     0.78       1.00      0.86  \n",
       "Random Forest                     0.91       1.00      0.87  \n",
       "AdaBoost Classifier               0.75       0.94      0.81  \n",
       "GradientBoost Classifier          0.75       1.00      0.77  \n",
       "Xgboost Classifier                0.78       1.00      0.82  "
      ]
     },
     "execution_count": 23,
     "metadata": {},
     "output_type": "execute_result"
    }
   ],
   "source": [
    "performance_df"
   ]
  },
  {
   "cell_type": "markdown",
   "id": "02aeee90",
   "metadata": {},
   "source": [
    "***conclusion:simple Logistic Regression is doing better job at classifying whether a person have heart attact or not***"
   ]
  },
  {
   "cell_type": "code",
   "execution_count": 24,
   "id": "70f93dd6",
   "metadata": {},
   "outputs": [],
   "source": [
    "def grid_model(model,param_grid,X,y,model_name):\n",
    "    X_train, X_test, y_train, y_test = train_test_split(X,y,test_size=0.2,random_state=42)\n",
    "    \n",
    "    \n",
    "    model = GridSearchCV(estimator=model,param_grid=param_grid,cv=5)\n",
    "    model.fit(X_train,y_train)\n",
    "    \n",
    "    y_train_pred = model.predict(X_train)\n",
    "    y_test_pred = model.predict(X_test)\n",
    "\n",
    "    # model prediction \n",
    "    y_train_pred = model.predict(X_train)\n",
    "    y_test_pred = model.predict(X_test)\n",
    "\n",
    "\n",
    "    # model Training set performance\n",
    "    model_train_accuracy, model_train_f1,model_train_precision,\\\n",
    "    model_train_recall,model_train_rocauc_score=model_performance(y_train ,y_train_pred)\n",
    "\n",
    "    # model Test set performance\n",
    "    model_test_accuracy,model_test_f1,model_test_precision,\\\n",
    "    model_test_recall,model_test_rocauc_score=model_performance(y_test, y_test_pred)\n",
    "\n",
    "\n",
    "    row_data = [model_train_accuracy,model_test_accuracy,model_train_f1,model_test_f1,model_train_precision,\n",
    "                    model_test_precision,model_train_recall,model_test_recall,model_train_rocauc_score,\n",
    "                    model_test_rocauc_score]\n",
    "    \n",
    "    print(f'Best Parameter values: {model.best_params_}\\n')\n",
    "    print(f'{model_name} Model performance for Training set')\n",
    "    print(\"- Accuracy: {:.4f}\".format(model_train_accuracy))\n",
    "    print('- F1 score: {:.4f}'.format(model_train_f1))\n",
    "    print('- Precision: {:.4f}'.format(model_train_precision))\n",
    "    print('- Recall: {:.4f}'.format(model_train_recall))\n",
    "    print('- Roc Auc Score: {:.4f}'.format(model_train_rocauc_score))\n",
    "    print('----------------------------------')\n",
    "    print(f'{model_name} Model performance for Training set')\n",
    "    print('- Accuracy: {:.4f}'.format(model_test_accuracy))\n",
    "    print('- F1 score: {:.4f}'.format(model_test_f1))\n",
    "    print('- Precision: {:.4f}'.format(model_test_precision))\n",
    "    print('- Recall: {:.4f}'.format(model_test_recall))\n",
    "    print('- Roc Auc Score: {:.4f}'.format(model_test_rocauc_score))\n",
    "    print('='*35)\n",
    "    print('\\n')\n",
    "    global grid_performance_df\n",
    "    grid_performance_df = grid_performance_df.append(pd.Series(row_data, index=grid_performance_df.columns, name=model_name))"
   ]
  },
  {
   "cell_type": "code",
   "execution_count": 25,
   "id": "0fb39066",
   "metadata": {},
   "outputs": [],
   "source": [
    "grid_performance_df = pd.DataFrame(columns=['Train Accuracy','Test Accuracy','Train F1','Test F1','Train Precision',\n",
    "                                       'Test Precision','Train Recall','Test Recall','Train auc','Test auc'])"
   ]
  },
  {
   "cell_type": "code",
   "execution_count": 26,
   "id": "4b8d2728",
   "metadata": {},
   "outputs": [
    {
     "name": "stdout",
     "output_type": "stream",
     "text": [
      "Best Parameter values: {'criterion': 'gini', 'max_depth': 8, 'min_samples_leaf': 3, 'min_samples_split': 4, 'splitter': 'random'}\n",
      "\n",
      "Decision Tree Model Model performance for Training set\n",
      "- Accuracy: 0.9100\n",
      "- F1 score: 0.9200\n",
      "- Precision: 0.9200\n",
      "- Recall: 0.9200\n",
      "- Roc Auc Score: 0.9100\n",
      "----------------------------------\n",
      "Decision Tree Model Model performance for Training set\n",
      "- Accuracy: 0.7700\n",
      "- F1 score: 0.7700\n",
      "- Precision: 0.8000\n",
      "- Recall: 0.7500\n",
      "- Roc Auc Score: 0.7700\n",
      "===================================\n",
      "\n",
      "\n"
     ]
    }
   ],
   "source": [
    "dtc_model = DecisionTreeClassifier()\n",
    "param_grid = {'criterion' : [\"gini\", \"entropy\"],\n",
    " 'splitter': [\"best\", \"random\"],\n",
    " 'max_depth' : range(2,10,1),\n",
    " 'min_samples_split':range(2,10,1),\n",
    "'min_samples_leaf':range(1,10,1),\n",
    "}\n",
    "grid_model(model=dtc_model,param_grid=param_grid,X=X,y=y,model_name='Decision Tree Model')\n"
   ]
  },
  {
   "cell_type": "code",
   "execution_count": 27,
   "id": "088c4cc2",
   "metadata": {},
   "outputs": [
    {
     "name": "stdout",
     "output_type": "stream",
     "text": [
      "Best Parameter values: {'bootstrap': False, 'max_features': 'sqrt', 'n_estimators': 250, 'oob_score': False}\n",
      "\n",
      "Random Forest Classifier Model performance for Training set\n",
      "- Accuracy: 1.0000\n",
      "- F1 score: 1.0000\n",
      "- Precision: 1.0000\n",
      "- Recall: 1.0000\n",
      "- Roc Auc Score: 1.0000\n",
      "----------------------------------\n",
      "Random Forest Classifier Model performance for Training set\n",
      "- Accuracy: 0.8200\n",
      "- F1 score: 0.8300\n",
      "- Precision: 0.8400\n",
      "- Recall: 0.8100\n",
      "- Roc Auc Score: 0.8200\n",
      "===================================\n",
      "\n",
      "\n"
     ]
    }
   ],
   "source": [
    "rfc_model = RandomForestClassifier()\n",
    "param_grid = {\n",
    "'n_estimators':[100,150,200,250],\n",
    "'max_features':['sqrt', 'log2', None],\n",
    "'bootstrap':[True,False],\n",
    "'oob_score':[True,False]}\n",
    "grid_model(model=rfc_model,param_grid=param_grid,X=X,y=y,model_name='Random Forest Classifier')"
   ]
  },
  {
   "cell_type": "code",
   "execution_count": 28,
   "id": "9dbcf14b",
   "metadata": {},
   "outputs": [
    {
     "name": "stdout",
     "output_type": "stream",
     "text": [
      "Best Parameter values: {'learning_rate': 0.1, 'n_estimators': 50}\n",
      "\n",
      "Adaboost Classifier Model performance for Training set\n",
      "- Accuracy: 0.8800\n",
      "- F1 score: 0.8900\n",
      "- Precision: 0.8600\n",
      "- Recall: 0.9200\n",
      "- Roc Auc Score: 0.8700\n",
      "----------------------------------\n",
      "Adaboost Classifier Model performance for Training set\n",
      "- Accuracy: 0.8500\n",
      "- F1 score: 0.8600\n",
      "- Precision: 0.8700\n",
      "- Recall: 0.8400\n",
      "- Roc Auc Score: 0.8500\n",
      "===================================\n",
      "\n",
      "\n"
     ]
    }
   ],
   "source": [
    "abc_model = AdaBoostClassifier()\n",
    "param_grid = {'n_estimators': [50, 100, 150],'learning_rate': [0.01, 0.1, 1.0,0.3]}\n",
    "grid_model(model=abc_model,param_grid=param_grid,X=X,y=y,model_name='Adaboost Classifier')"
   ]
  },
  {
   "cell_type": "code",
   "execution_count": 29,
   "id": "8281d5bd",
   "metadata": {},
   "outputs": [
    {
     "name": "stdout",
     "output_type": "stream",
     "text": [
      "Best Parameter values: {'learning_rate': 0.2, 'n_estimators': 50, 'subsample': 0.8}\n",
      "\n",
      "GradientBoost Classifier Model performance for Training set\n",
      "- Accuracy: 1.0000\n",
      "- F1 score: 1.0000\n",
      "- Precision: 1.0000\n",
      "- Recall: 1.0000\n",
      "- Roc Auc Score: 1.0000\n",
      "----------------------------------\n",
      "GradientBoost Classifier Model performance for Training set\n",
      "- Accuracy: 0.8500\n",
      "- F1 score: 0.8600\n",
      "- Precision: 0.8700\n",
      "- Recall: 0.8400\n",
      "- Roc Auc Score: 0.8500\n",
      "===================================\n",
      "\n",
      "\n"
     ]
    }
   ],
   "source": [
    "gbc_model = GradientBoostingClassifier()\n",
    "param_grid = {\n",
    " 'n_estimators': [50, 100, 150], \n",
    " 'learning_rate': [0.01, 0.1, 0.2,0.3], \n",
    " 'subsample': [0.8, 0.9, 1.0], \n",
    "}\n",
    "grid_model(model=gbc_model,param_grid=param_grid,X=X,y=y,model_name='GradientBoost Classifier')"
   ]
  },
  {
   "cell_type": "code",
   "execution_count": 30,
   "id": "c4cf70d3",
   "metadata": {},
   "outputs": [
    {
     "name": "stdout",
     "output_type": "stream",
     "text": [
      "Best Parameter values: {'colsample_bytree': 0.8, 'learning_rate': 0.1, 'max_depth': 3, 'n_estimators': 150, 'subsample': 1.0}\n",
      "\n",
      "Xgboost Classifier Model performance for Training set\n",
      "- Accuracy: 1.0000\n",
      "- F1 score: 1.0000\n",
      "- Precision: 0.9900\n",
      "- Recall: 1.0000\n",
      "- Roc Auc Score: 1.0000\n",
      "----------------------------------\n",
      "Xgboost Classifier Model performance for Training set\n",
      "- Accuracy: 0.7900\n",
      "- F1 score: 0.7800\n",
      "- Precision: 0.8500\n",
      "- Recall: 0.7200\n",
      "- Roc Auc Score: 0.7900\n",
      "===================================\n",
      "\n",
      "\n"
     ]
    }
   ],
   "source": [
    "xgb_model = XGBClassifier()\n",
    "param_grid = {\n",
    " 'n_estimators': [50, 100, 150],\n",
    " 'max_depth': [3, 4, 5],\n",
    " 'learning_rate': [0.01, 0.1, 0.2],\n",
    " 'subsample': [0.8, 0.9, 1.0],\n",
    " 'colsample_bytree': [0.8, 0.9, 1.0]\n",
    "}\n",
    "grid_model(model=xgb_model,param_grid=param_grid,X=X,y=y,model_name='Xgboost Classifier')"
   ]
  },
  {
   "cell_type": "code",
   "execution_count": 31,
   "id": "3e63f249",
   "metadata": {},
   "outputs": [
    {
     "data": {
      "text/html": [
       "<div>\n",
       "<style scoped>\n",
       "    .dataframe tbody tr th:only-of-type {\n",
       "        vertical-align: middle;\n",
       "    }\n",
       "\n",
       "    .dataframe tbody tr th {\n",
       "        vertical-align: top;\n",
       "    }\n",
       "\n",
       "    .dataframe thead th {\n",
       "        text-align: right;\n",
       "    }\n",
       "</style>\n",
       "<table border=\"1\" class=\"dataframe\">\n",
       "  <thead>\n",
       "    <tr style=\"text-align: right;\">\n",
       "      <th></th>\n",
       "      <th>Train Accuracy</th>\n",
       "      <th>Test Accuracy</th>\n",
       "      <th>Train F1</th>\n",
       "      <th>Test F1</th>\n",
       "      <th>Train Precision</th>\n",
       "      <th>Test Precision</th>\n",
       "      <th>Train Recall</th>\n",
       "      <th>Test Recall</th>\n",
       "      <th>Train auc</th>\n",
       "      <th>Test auc</th>\n",
       "    </tr>\n",
       "  </thead>\n",
       "  <tbody>\n",
       "    <tr>\n",
       "      <th>Decision Tree Model</th>\n",
       "      <td>0.91</td>\n",
       "      <td>0.77</td>\n",
       "      <td>0.92</td>\n",
       "      <td>0.77</td>\n",
       "      <td>0.92</td>\n",
       "      <td>0.80</td>\n",
       "      <td>0.92</td>\n",
       "      <td>0.75</td>\n",
       "      <td>0.91</td>\n",
       "      <td>0.77</td>\n",
       "    </tr>\n",
       "    <tr>\n",
       "      <th>Random Forest Classifier</th>\n",
       "      <td>1.00</td>\n",
       "      <td>0.82</td>\n",
       "      <td>1.00</td>\n",
       "      <td>0.83</td>\n",
       "      <td>1.00</td>\n",
       "      <td>0.84</td>\n",
       "      <td>1.00</td>\n",
       "      <td>0.81</td>\n",
       "      <td>1.00</td>\n",
       "      <td>0.82</td>\n",
       "    </tr>\n",
       "    <tr>\n",
       "      <th>Adaboost Classifier</th>\n",
       "      <td>0.88</td>\n",
       "      <td>0.85</td>\n",
       "      <td>0.89</td>\n",
       "      <td>0.86</td>\n",
       "      <td>0.86</td>\n",
       "      <td>0.87</td>\n",
       "      <td>0.92</td>\n",
       "      <td>0.84</td>\n",
       "      <td>0.87</td>\n",
       "      <td>0.85</td>\n",
       "    </tr>\n",
       "    <tr>\n",
       "      <th>GradientBoost Classifier</th>\n",
       "      <td>1.00</td>\n",
       "      <td>0.85</td>\n",
       "      <td>1.00</td>\n",
       "      <td>0.86</td>\n",
       "      <td>1.00</td>\n",
       "      <td>0.87</td>\n",
       "      <td>1.00</td>\n",
       "      <td>0.84</td>\n",
       "      <td>1.00</td>\n",
       "      <td>0.85</td>\n",
       "    </tr>\n",
       "    <tr>\n",
       "      <th>Xgboost Classifier</th>\n",
       "      <td>1.00</td>\n",
       "      <td>0.79</td>\n",
       "      <td>1.00</td>\n",
       "      <td>0.78</td>\n",
       "      <td>0.99</td>\n",
       "      <td>0.85</td>\n",
       "      <td>1.00</td>\n",
       "      <td>0.72</td>\n",
       "      <td>1.00</td>\n",
       "      <td>0.79</td>\n",
       "    </tr>\n",
       "  </tbody>\n",
       "</table>\n",
       "</div>"
      ],
      "text/plain": [
       "                          Train Accuracy  Test Accuracy  Train F1  Test F1  \\\n",
       "Decision Tree Model                 0.91           0.77      0.92     0.77   \n",
       "Random Forest Classifier            1.00           0.82      1.00     0.83   \n",
       "Adaboost Classifier                 0.88           0.85      0.89     0.86   \n",
       "GradientBoost Classifier            1.00           0.85      1.00     0.86   \n",
       "Xgboost Classifier                  1.00           0.79      1.00     0.78   \n",
       "\n",
       "                          Train Precision  Test Precision  Train Recall  \\\n",
       "Decision Tree Model                  0.92            0.80          0.92   \n",
       "Random Forest Classifier             1.00            0.84          1.00   \n",
       "Adaboost Classifier                  0.86            0.87          0.92   \n",
       "GradientBoost Classifier             1.00            0.87          1.00   \n",
       "Xgboost Classifier                   0.99            0.85          1.00   \n",
       "\n",
       "                          Test Recall  Train auc  Test auc  \n",
       "Decision Tree Model              0.75       0.91      0.77  \n",
       "Random Forest Classifier         0.81       1.00      0.82  \n",
       "Adaboost Classifier              0.84       0.87      0.85  \n",
       "GradientBoost Classifier         0.84       1.00      0.85  \n",
       "Xgboost Classifier               0.72       1.00      0.79  "
      ]
     },
     "execution_count": 31,
     "metadata": {},
     "output_type": "execute_result"
    }
   ],
   "source": [
    "grid_performance_df"
   ]
  },
  {
   "cell_type": "markdown",
   "id": "24849806",
   "metadata": {},
   "source": [
    "***conclusion:aslo after tuning the hyperparameter no significant improve on accuracy so we will go with simple logistic regression which gives highest roc_auc_score.***"
   ]
  },
  {
   "cell_type": "code",
   "execution_count": 32,
   "id": "62d9f9c2",
   "metadata": {},
   "outputs": [
    {
     "name": "stdout",
     "output_type": "stream",
     "text": [
      "Final Logistic Regression model Accuracy Score (Test) : 0.89\n"
     ]
    },
    {
     "data": {
      "image/png": "[encoded data removed]",
      "text/plain": [
       "<Figure size 640x480 with 2 Axes>"
      ]
     },
     "metadata": {},
     "output_type": "display_data"
    }
   ],
   "source": [
    "final_model = LogisticRegression()\n",
    "X_train, X_test, y_train, y_test = train_test_split(X,y,test_size=0.2,random_state=42)\n",
    "final_model = final_model.fit(X_train, y_train)\n",
    "y_pred = final_model.predict(X_test)\n",
    "print(\"Final Logistic Regression model Accuracy Score (Test) :\", round(accuracy_score(y_pred,y_test),2))\n",
    "from sklearn.metrics import plot_confusion_matrix\n",
    "plot_confusion_matrix(final_model, X_test, y_test, cmap='Blues', values_format='d');"
   ]
  },
  {
   "cell_type": "code",
   "execution_count": null,
   "id": "75797224",
   "metadata": {},
   "outputs": [],
   "source": []
  }
 ],
 "metadata": {
  "kernelspec": {
   "display_name": "Python 3 (ipykernel)",
   "language": "python",
   "name": "python3"
  },
  "language_info": {
   "codemirror_mode": {
    "name": "ipython",
    "version": 3
   },
   "file_extension": ".py",
   "mimetype": "text/x-python",
   "name": "python",
   "nbconvert_exporter": "python",
   "pygments_lexer": "ipython3",
   "version": "3.11.5"
  }
 },
 "nbformat": 4,
 "nbformat_minor": 5
}
